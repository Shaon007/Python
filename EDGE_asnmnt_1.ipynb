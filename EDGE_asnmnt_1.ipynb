{
  "nbformat": 4,
  "nbformat_minor": 0,
  "metadata": {
    "colab": {
      "provenance": [],
      "authorship_tag": "ABX9TyNY8xGR0xFo/8WSk3ufJMcl",
      "include_colab_link": true
    },
    "kernelspec": {
      "name": "python3",
      "display_name": "Python 3"
    },
    "language_info": {
      "name": "python"
    }
  },
  "cells": [
    {
      "cell_type": "markdown",
      "metadata": {
        "id": "view-in-github",
        "colab_type": "text"
      },
      "source": [
        "<a href=\"https://colab.research.google.com/github/Shaon007/Python/blob/main/EDGE_asnmnt_1.ipynb\" target=\"_parent\"><img src=\"https://colab.research.google.com/assets/colab-badge.svg\" alt=\"Open In Colab\"/></a>"
      ]
    },
    {
      "cell_type": "code",
      "execution_count": null,
      "metadata": {
        "id": "7-wj3pRjXail"
      },
      "outputs": [],
      "source": [
        "num1 = float(input(\"Enter a number: \"))\n",
        "num2 = float(input(\"Enter second number: \"))\n",
        "op = input(\"Enter a operator:\")\n",
        "\n",
        "if op == \"+\":\n",
        "    print(num1 + num2)\n",
        "elif op == '-':\n",
        "    print(num1-num2)\n",
        "elif op == '*':\n",
        "    print(num1 * num2)\n",
        "elif op == \"/\":\n",
        "    print(num1/num2)\n",
        "else :\n",
        "    print('invalid operator')"
      ]
    },
    {
      "cell_type": "code",
      "source": [
        "def add(a, b):\n",
        "    return a + b\n",
        "\n",
        "def subtract(a, b):\n",
        "    return a - b\n",
        "\n",
        "def multiply(a, b):\n",
        "    return a * b\n",
        "\n",
        "def divide(a, b):\n",
        "    return a / b if b != 0 else \"Cannot divide by zero\"\n",
        "\n",
        "num1 = float(input(\"Enter first number: \"))\n",
        "operator = input(\"Choose an operator (+, -, *, /): \")\n",
        "num2 = float(input(\"Enter second number: \"))\n",
        "\n",
        "if operator == '+':\n",
        "    print(\"Result:\", add(num1, num2))\n",
        "elif operator == '-':\n",
        "    print(\"Result:\", subtract(num1, num2))\n",
        "elif operator == '*':\n",
        "    print(\"Result:\", multiply(num1, num2))\n",
        "elif operator == '/':\n",
        "    print(\"Result:\", divide(num1, num2))\n",
        "else:\n",
        "    print(\"Invalid operator\")\n",
        "\n"
      ],
      "metadata": {
        "id": "R4zoJvwIb9n-"
      },
      "execution_count": null,
      "outputs": []
    }
  ]
}