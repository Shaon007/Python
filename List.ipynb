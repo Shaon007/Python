{
  "nbformat": 4,
  "nbformat_minor": 0,
  "metadata": {
    "colab": {
      "provenance": [],
      "toc_visible": true,
      "authorship_tag": "ABX9TyMXCr1GQvZnNx63uBv7mYRn",
      "include_colab_link": true
    },
    "kernelspec": {
      "name": "python3",
      "display_name": "Python 3"
    },
    "language_info": {
      "name": "python"
    }
  },
  "cells": [
    {
      "cell_type": "markdown",
      "metadata": {
        "id": "view-in-github",
        "colab_type": "text"
      },
      "source": [
        "<a href=\"https://colab.research.google.com/github/Shaon007/Python/blob/main/List.ipynb\" target=\"_parent\"><img src=\"https://colab.research.google.com/assets/colab-badge.svg\" alt=\"Open In Colab\"/></a>"
      ]
    },
    {
      "cell_type": "code",
      "execution_count": 1,
      "metadata": {
        "colab": {
          "base_uri": "https://localhost:8080/"
        },
        "id": "bJRH4tB84iM-",
        "outputId": "d0c7d140-b94c-43db-a41a-f452df1a1e44"
      },
      "outputs": [
        {
          "output_type": "stream",
          "name": "stdout",
          "text": [
            "N\n",
            "a\n",
            "z\n",
            "i\n",
            "r\n",
            "Nazir\n",
            "is\n",
            "from\n",
            "mbstu\n",
            "ict\n",
            "department\n",
            "MBSTU\n",
            "ICT\n",
            "DEPARTMENT\n"
          ]
        }
      ],
      "source": [
        "\n",
        "a= \"Nazir is from mbstu ict department\"\n",
        "\n",
        "# string split letter by letter up to index 4[N a z i r]\n",
        "for i in a[:5]:\n",
        "  print(i)\n",
        "\n",
        "#splits strings upon empty space[Nazir , is, from, mbstu , ict, department ]\n",
        "b=a.split(\" \")\n",
        "for w in b:\n",
        "  print(w)\n",
        "\n",
        "#capitalize from index 3 to 5 (here index means each words)\n",
        "c=b[3:6]\n",
        "for sw in c:\n",
        "  print(sw.upper())"
      ]
    }
  ]
}