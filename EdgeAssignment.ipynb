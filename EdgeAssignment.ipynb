{
  "nbformat": 4,
  "nbformat_minor": 0,
  "metadata": {
    "colab": {
      "provenance": [],
      "authorship_tag": "ABX9TyOAp/sY09rV263y5Cx4B4MF",
      "include_colab_link": true
    },
    "kernelspec": {
      "name": "python3",
      "display_name": "Python 3"
    },
    "language_info": {
      "name": "python"
    }
  },
  "cells": [
    {
      "cell_type": "markdown",
      "metadata": {
        "id": "view-in-github",
        "colab_type": "text"
      },
      "source": [
        "<a href=\"https://colab.research.google.com/github/Shaon007/Python/blob/main/EdgeAssignment.ipynb\" target=\"_parent\"><img src=\"https://colab.research.google.com/assets/colab-badge.svg\" alt=\"Open In Colab\"/></a>"
      ]
    },
    {
      "cell_type": "code",
      "execution_count": 1,
      "metadata": {
        "colab": {
          "base_uri": "https://localhost:8080/"
        },
        "id": "B4z0_MlwQM9t",
        "outputId": "a9ed1ef1-3738-4a05-bddc-1e0b6899ec78"
      },
      "outputs": [
        {
          "output_type": "stream",
          "name": "stdout",
          "text": [
            "Enter a number: 2\n",
            "Enter second number: 3\n",
            "Enter a operator:*\n",
            "6.0\n"
          ]
        }
      ],
      "source": [
        "num1 = float(input(\"Enter a number: \"))\n",
        "num2 = float(input(\"Enter second number: \"))\n",
        "op = input(\"Enter a operator:\")\n",
        "\n",
        "if op == \"+\":\n",
        "    print(num1 + num2)\n",
        "elif op == '-':\n",
        "    print(num1-num2)\n",
        "elif op == '*':\n",
        "    print(num1 * num2)\n",
        "elif op == \"/\":\n",
        "    print(num1/num2)\n",
        "else :\n",
        "    print('invalid operator')"
      ]
    }
  ]
}