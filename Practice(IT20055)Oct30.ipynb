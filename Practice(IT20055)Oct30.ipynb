{
  "nbformat": 4,
  "nbformat_minor": 0,
  "metadata": {
    "colab": {
      "provenance": [],
      "authorship_tag": "ABX9TyMhOok8IB2yV3Q+2dnjWU82",
      "include_colab_link": true
    },
    "kernelspec": {
      "name": "python3",
      "display_name": "Python 3"
    },
    "language_info": {
      "name": "python"
    }
  },
  "cells": [
    {
      "cell_type": "markdown",
      "metadata": {
        "id": "view-in-github",
        "colab_type": "text"
      },
      "source": [
        "<a href=\"https://colab.research.google.com/github/Shaon007/Python/blob/main/Practice(IT20055)Oct30.ipynb\" target=\"_parent\"><img src=\"https://colab.research.google.com/assets/colab-badge.svg\" alt=\"Open In Colab\"/></a>"
      ]
    },
    {
      "cell_type": "code",
      "execution_count": 4,
      "metadata": {
        "colab": {
          "base_uri": "https://localhost:8080/"
        },
        "id": "qLC2Rzw_vzN7",
        "outputId": "d2332338-372b-4a9e-b0fa-8009b8d461e0"
      },
      "outputs": [
        {
          "output_type": "stream",
          "name": "stdout",
          "text": [
            "Enter no of dept in f_engg: 3\n",
            "Enter no of dept in f_ls: 10\n",
            "Enter no of dept in others: 5\n",
            "Total dept of MBSTU: 18\n"
          ]
        }
      ],
      "source": [
        "def mbstuTotalDept(f_engg, f_ls, others):\n",
        "    total_dept = f_engg + f_ls + others\n",
        "    return total_dept\n",
        "\n",
        "f_engg = int(input(\"Enter no of dept in f_engg: \"))\n",
        "f_ls = int(input(\"Enter no of dept in f_ls: \"))\n",
        "others = int(input(\"Enter no of dept in others: \"))\n",
        "\n",
        "print(\"Total dept of MBSTU:\", mbstuTotalDept(f_engg, f_ls, others))\n"
      ]
    },
    {
      "cell_type": "code",
      "source": [
        "def seriesSum(n):\n",
        "    total = n * (n + 1) // 2\n",
        "    return total\n",
        "maxRange = int(input(\"Enter the outer range: \"))\n",
        "\n",
        "print(f\"The sum of numbers from 1 to {maxRange} is:\", seriesSum(maxRange))"
      ],
      "metadata": {
        "colab": {
          "base_uri": "https://localhost:8080/"
        },
        "id": "sKnkeL8s6VYk",
        "outputId": "807f7e57-d2b0-43c1-ee0f-c4d0419e8c26"
      },
      "execution_count": 6,
      "outputs": [
        {
          "output_type": "stream",
          "name": "stdout",
          "text": [
            "Enter the outer range: 12\n",
            "The sum of numbers from 1 to 12 is: 78\n"
          ]
        }
      ]
    }
  ]
}